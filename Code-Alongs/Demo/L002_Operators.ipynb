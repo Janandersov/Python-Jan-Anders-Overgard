{
 "cells": [
  {
   "cell_type": "markdown",
   "source": [
    "# Operators\n",
    "- An operator in a programming language is a symbol that tells the compiler or interpreter to perform specific mathematical, relational or logical operation and produce final result.\n",
    "## Aritmetic operators\n",
    "- Addition +\n",
    "- Subtraction -\n",
    "- Multiplication *\n",
    "- Division /\n",
    "- Floor Division //\n",
    "- Modulus %\n",
    "- Exponentiation **"
   ],
   "metadata": {
    "collapsed": false
   },
   "id": "fec222be37347482"
  },
  {
   "cell_type": "code",
   "execution_count": 4,
   "outputs": [
    {
     "name": "stdout",
     "output_type": "stream",
     "text": [
      "4.5\n",
      "4\n",
      "1\n",
      "9\n",
      "27\n"
     ]
    }
   ],
   "source": [
    "print(9 / 2)\n",
    "\n",
    "print(9 // 2)\n",
    "print(9 % 2)\n",
    "\n",
    "print(3**2)\n",
    "print(3**3)"
   ],
   "metadata": {
    "collapsed": false,
    "ExecuteTime": {
     "end_time": "2023-08-31T11:28:40.073287900Z",
     "start_time": "2023-08-31T11:28:40.063286900Z"
    }
   },
   "id": "4e1fe49db37567f8"
  },
  {
   "cell_type": "markdown",
   "source": [
    "# Comparison operator (jämnförelseoperatorer)\n",
    "- Equal ==\n",
    "- Not Equal !=\n",
    "- Less than <\n",
    "- Greater than >\n",
    "- Less or equal than <=\n",
    "- Greater or equal than >="
   ],
   "metadata": {
    "collapsed": false
   },
   "id": "3975619a137b83b7"
  },
  {
   "cell_type": "code",
   "execution_count": 5,
   "outputs": [
    {
     "name": "stdout",
     "output_type": "stream",
     "text": [
      "True\n",
      "False\n"
     ]
    }
   ],
   "source": [
    "x = 6\n",
    "\n",
    "x == 5\n",
    "print(5 <= 5)\n",
    "print(5 < 5)"
   ],
   "metadata": {
    "collapsed": false,
    "ExecuteTime": {
     "end_time": "2023-08-31T11:28:40.081237200Z",
     "start_time": "2023-08-31T11:28:40.072012600Z"
    }
   },
   "id": "696e6b7449681a21"
  },
  {
   "cell_type": "markdown",
   "source": [
    "# Logical Operators\n",
    "- and (true if both are true)\n",
    "- or (true if one or both are true)\n",
    "- not (true if false, false if true)"
   ],
   "metadata": {
    "collapsed": false
   },
   "id": "ddb0c35dcc0ea909"
  },
  {
   "cell_type": "code",
   "execution_count": 6,
   "outputs": [
    {
     "name": "stdout",
     "output_type": "stream",
     "text": [
      "True\n",
      "True\n",
      "False\n",
      "True\n",
      "True\n",
      "False\n"
     ]
    }
   ],
   "source": [
    "print(True and True)\n",
    "print(True or True)\n",
    "\n",
    "print(True and False)\n",
    "print(True or False)\n",
    "\n",
    "print(not False)\n",
    "\n",
    "print(5 == 5 and 7 == 8)"
   ],
   "metadata": {
    "collapsed": false,
    "ExecuteTime": {
     "end_time": "2023-08-31T11:28:40.092770200Z",
     "start_time": "2023-08-31T11:28:40.079827700Z"
    }
   },
   "id": "b94b6d5111035f48"
  }
 ],
 "metadata": {
  "kernelspec": {
   "display_name": "Python 3",
   "language": "python",
   "name": "python3"
  },
  "language_info": {
   "codemirror_mode": {
    "name": "ipython",
    "version": 2
   },
   "file_extension": ".py",
   "mimetype": "text/x-python",
   "name": "python",
   "nbconvert_exporter": "python",
   "pygments_lexer": "ipython2",
   "version": "2.7.6"
  }
 },
 "nbformat": 4,
 "nbformat_minor": 5
}
