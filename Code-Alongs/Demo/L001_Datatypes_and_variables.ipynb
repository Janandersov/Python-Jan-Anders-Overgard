{
 "cells": [
  {
   "cell_type": "markdown",
   "source": [
    "# Data types\n",
    "- **String** (text)\n",
    "- **Int** (Integer, heltal)\n",
    "- **Float** (floating point, flyttal (decimaltal))\n",
    "- **Bool** (boolean, True/False)"
   ],
   "metadata": {
    "collapsed": false
   },
   "id": "955f50df3cb25b0"
  },
  {
   "cell_type": "code",
   "execution_count": 14,
   "outputs": [
    {
     "name": "stdout",
     "output_type": "stream",
     "text": [
      "Jan\n",
      "8\n",
      "3.14\n",
      "True\n"
     ]
    }
   ],
   "source": [
    "myString = \"Jan\"\n",
    "print(myString) \n",
    "\n",
    "myInt = 8\n",
    "print(myInt)\n",
    "\n",
    "myFloat = 3.14\n",
    "print(myFloat)\n",
    "\n",
    "myBool = True\n",
    "print(myBool)"
   ],
   "metadata": {
    "collapsed": false,
    "ExecuteTime": {
     "end_time": "2023-08-31T09:46:04.286689400Z",
     "start_time": "2023-08-31T09:46:04.268416700Z"
    }
   },
   "id": "928375ad3569ead2"
  },
  {
   "cell_type": "markdown",
   "source": [
    "# Literal values\n",
    "- \"Hello\" - **String**. Can use single or double quotes. Case-sensitive.\n",
    "- 5 - **Integer**\n",
    "- 4.5 - **Float**\n",
    "- True - **Bool**. Can be True or False"
   ],
   "metadata": {
    "collapsed": false
   },
   "id": "bb45316a78946976"
  },
  {
   "cell_type": "markdown",
   "source": [
    "# Variables\n",
    "- Case-sensitive\n",
    "- Created when first assigned, doesn't need to be declared\n",
    "- Dynamic typing, type is referred from assignment, can be re-typed.\n",
    "- Cast type with: str(), int(), float(), bool()\n",
    "- Get type with: type()\n",
    "- Use del() to delete variables."
   ],
   "metadata": {
    "collapsed": false
   },
   "id": "e27cd88fb984d320"
  },
  {
   "cell_type": "code",
   "execution_count": 15,
   "outputs": [
    {
     "name": "stdout",
     "output_type": "stream",
     "text": [
      "58\n",
      "<class 'str'>\n",
      "<class 'int'>\n"
     ]
    },
    {
     "ename": "NameError",
     "evalue": "name 'myNumber2' is not defined",
     "output_type": "error",
     "traceback": [
      "\u001B[1;31m---------------------------------------------------------------------------\u001B[0m",
      "\u001B[1;31mNameError\u001B[0m                                 Traceback (most recent call last)",
      "Cell \u001B[1;32mIn[15], line 9\u001B[0m\n\u001B[0;32m      6\u001B[0m \u001B[38;5;28mprint\u001B[39m(\u001B[38;5;28mtype\u001B[39m(myNumber2))\n\u001B[0;32m      8\u001B[0m \u001B[38;5;28;01mdel\u001B[39;00m(myNumber2)\n\u001B[1;32m----> 9\u001B[0m \u001B[38;5;28mprint\u001B[39m(\u001B[43mmyNumber2\u001B[49m)\n",
      "\u001B[1;31mNameError\u001B[0m: name 'myNumber2' is not defined"
     ]
    }
   ],
   "source": [
    "myNumber = \"56\"\n",
    "myNumber2 = int(myNumber)\n",
    "print(myNumber2 + 2)\n",
    "\n",
    "print(type(myNumber))\n",
    "print(type(myNumber2))\n",
    "\n",
    "del(myNumber2)\n",
    "print(myNumber2)\n",
    "\n",
    "# Casting string to bool => false for empty string, true for not empty string\n"
   ],
   "metadata": {
    "collapsed": false,
    "ExecuteTime": {
     "end_time": "2023-08-31T09:46:04.348522300Z",
     "start_time": "2023-08-31T09:46:04.281833600Z"
    }
   },
   "id": "76169519b393897c"
  },
  {
   "cell_type": "markdown",
   "source": [],
   "metadata": {
    "collapsed": false
   },
   "id": "87f8381dbc68d652"
  }
 ],
 "metadata": {
  "kernelspec": {
   "display_name": "Python 3",
   "language": "python",
   "name": "python3"
  },
  "language_info": {
   "codemirror_mode": {
    "name": "ipython",
    "version": 2
   },
   "file_extension": ".py",
   "mimetype": "text/x-python",
   "name": "python",
   "nbconvert_exporter": "python",
   "pygments_lexer": "ipython2",
   "version": "2.7.6"
  }
 },
 "nbformat": 4,
 "nbformat_minor": 5
}
