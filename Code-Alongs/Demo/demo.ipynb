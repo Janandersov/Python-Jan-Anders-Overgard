{
 "cells": [
  {
   "cell_type": "markdown",
   "source": [
    "# Caption\n",
    "## Subcaption"
   ],
   "metadata": {
    "collapsed": false
   },
   "id": "5159a848f2fd0b6e"
  },
  {
   "cell_type": "code",
   "execution_count": 1,
   "outputs": [
    {
     "name": "stdout",
     "output_type": "stream",
     "text": [
      "Hello\n"
     ]
    }
   ],
   "source": [
    "print(\"Hello\")  "
   ],
   "metadata": {
    "collapsed": false,
    "ExecuteTime": {
     "end_time": "2023-08-31T09:00:28.112752300Z",
     "start_time": "2023-08-31T09:00:28.097190100Z"
    }
   },
   "id": "61f02b0137825f8b"
  }
 ],
 "metadata": {
  "kernelspec": {
   "display_name": "Python 3",
   "language": "python",
   "name": "python3"
  },
  "language_info": {
   "codemirror_mode": {
    "name": "ipython",
    "version": 2
   },
   "file_extension": ".py",
   "mimetype": "text/x-python",
   "name": "python",
   "nbconvert_exporter": "python",
   "pygments_lexer": "ipython2",
   "version": "2.7.6"
  }
 },
 "nbformat": 4,
 "nbformat_minor": 5
}
